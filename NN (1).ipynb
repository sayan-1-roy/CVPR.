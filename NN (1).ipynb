{
  "nbformat": 4,
  "nbformat_minor": 0,
  "metadata": {
    "colab": {
      "provenance": []
    },
    "kernelspec": {
      "name": "python3",
      "display_name": "Python 3"
    },
    "language_info": {
      "name": "python"
    }
  },
  "cells": [
    {
      "cell_type": "code",
      "execution_count": 218,
      "metadata": {
        "id": "50ructR59eqk"
      },
      "outputs": [],
      "source": [
        "import numpy as np\n",
        "import matplotlib.pyplot as plt\n",
        "import pandas as pd\n",
        "from sklearn.model_selection import train_test_split\n",
        "from sklearn.metrics import accuracy_score, precision_score, recall_score, f1_score, confusion_matrix, roc_curve, auc\n",
        "import seaborn as sns"
      ]
    },
    {
      "cell_type": "code",
      "source": [
        "from google.colab import files\n",
        "uploaded = files.upload()\n",
        "\n",
        "df = pd.read_csv(\"sa.csv\")\n",
        "\n",
        "df.head()"
      ],
      "metadata": {
        "colab": {
          "base_uri": "https://localhost:8080/",
          "height": 262
        },
        "id": "j9s3S9WV9lS8",
        "outputId": "6b62963e-2a6f-4e3c-ec37-0693207161dd"
      },
      "execution_count": 219,
      "outputs": [
        {
          "output_type": "display_data",
          "data": {
            "text/plain": [
              "<IPython.core.display.HTML object>"
            ],
            "text/html": [
              "\n",
              "     <input type=\"file\" id=\"files-5d03e220-8d39-4768-b977-cced9be2568b\" name=\"files[]\" multiple disabled\n",
              "        style=\"border:none\" />\n",
              "     <output id=\"result-5d03e220-8d39-4768-b977-cced9be2568b\">\n",
              "      Upload widget is only available when the cell has been executed in the\n",
              "      current browser session. Please rerun this cell to enable.\n",
              "      </output>\n",
              "      <script>// Copyright 2017 Google LLC\n",
              "//\n",
              "// Licensed under the Apache License, Version 2.0 (the \"License\");\n",
              "// you may not use this file except in compliance with the License.\n",
              "// You may obtain a copy of the License at\n",
              "//\n",
              "//      http://www.apache.org/licenses/LICENSE-2.0\n",
              "//\n",
              "// Unless required by applicable law or agreed to in writing, software\n",
              "// distributed under the License is distributed on an \"AS IS\" BASIS,\n",
              "// WITHOUT WARRANTIES OR CONDITIONS OF ANY KIND, either express or implied.\n",
              "// See the License for the specific language governing permissions and\n",
              "// limitations under the License.\n",
              "\n",
              "/**\n",
              " * @fileoverview Helpers for google.colab Python module.\n",
              " */\n",
              "(function(scope) {\n",
              "function span(text, styleAttributes = {}) {\n",
              "  const element = document.createElement('span');\n",
              "  element.textContent = text;\n",
              "  for (const key of Object.keys(styleAttributes)) {\n",
              "    element.style[key] = styleAttributes[key];\n",
              "  }\n",
              "  return element;\n",
              "}\n",
              "\n",
              "// Max number of bytes which will be uploaded at a time.\n",
              "const MAX_PAYLOAD_SIZE = 100 * 1024;\n",
              "\n",
              "function _uploadFiles(inputId, outputId) {\n",
              "  const steps = uploadFilesStep(inputId, outputId);\n",
              "  const outputElement = document.getElementById(outputId);\n",
              "  // Cache steps on the outputElement to make it available for the next call\n",
              "  // to uploadFilesContinue from Python.\n",
              "  outputElement.steps = steps;\n",
              "\n",
              "  return _uploadFilesContinue(outputId);\n",
              "}\n",
              "\n",
              "// This is roughly an async generator (not supported in the browser yet),\n",
              "// where there are multiple asynchronous steps and the Python side is going\n",
              "// to poll for completion of each step.\n",
              "// This uses a Promise to block the python side on completion of each step,\n",
              "// then passes the result of the previous step as the input to the next step.\n",
              "function _uploadFilesContinue(outputId) {\n",
              "  const outputElement = document.getElementById(outputId);\n",
              "  const steps = outputElement.steps;\n",
              "\n",
              "  const next = steps.next(outputElement.lastPromiseValue);\n",
              "  return Promise.resolve(next.value.promise).then((value) => {\n",
              "    // Cache the last promise value to make it available to the next\n",
              "    // step of the generator.\n",
              "    outputElement.lastPromiseValue = value;\n",
              "    return next.value.response;\n",
              "  });\n",
              "}\n",
              "\n",
              "/**\n",
              " * Generator function which is called between each async step of the upload\n",
              " * process.\n",
              " * @param {string} inputId Element ID of the input file picker element.\n",
              " * @param {string} outputId Element ID of the output display.\n",
              " * @return {!Iterable<!Object>} Iterable of next steps.\n",
              " */\n",
              "function* uploadFilesStep(inputId, outputId) {\n",
              "  const inputElement = document.getElementById(inputId);\n",
              "  inputElement.disabled = false;\n",
              "\n",
              "  const outputElement = document.getElementById(outputId);\n",
              "  outputElement.innerHTML = '';\n",
              "\n",
              "  const pickedPromise = new Promise((resolve) => {\n",
              "    inputElement.addEventListener('change', (e) => {\n",
              "      resolve(e.target.files);\n",
              "    });\n",
              "  });\n",
              "\n",
              "  const cancel = document.createElement('button');\n",
              "  inputElement.parentElement.appendChild(cancel);\n",
              "  cancel.textContent = 'Cancel upload';\n",
              "  const cancelPromise = new Promise((resolve) => {\n",
              "    cancel.onclick = () => {\n",
              "      resolve(null);\n",
              "    };\n",
              "  });\n",
              "\n",
              "  // Wait for the user to pick the files.\n",
              "  const files = yield {\n",
              "    promise: Promise.race([pickedPromise, cancelPromise]),\n",
              "    response: {\n",
              "      action: 'starting',\n",
              "    }\n",
              "  };\n",
              "\n",
              "  cancel.remove();\n",
              "\n",
              "  // Disable the input element since further picks are not allowed.\n",
              "  inputElement.disabled = true;\n",
              "\n",
              "  if (!files) {\n",
              "    return {\n",
              "      response: {\n",
              "        action: 'complete',\n",
              "      }\n",
              "    };\n",
              "  }\n",
              "\n",
              "  for (const file of files) {\n",
              "    const li = document.createElement('li');\n",
              "    li.append(span(file.name, {fontWeight: 'bold'}));\n",
              "    li.append(span(\n",
              "        `(${file.type || 'n/a'}) - ${file.size} bytes, ` +\n",
              "        `last modified: ${\n",
              "            file.lastModifiedDate ? file.lastModifiedDate.toLocaleDateString() :\n",
              "                                    'n/a'} - `));\n",
              "    const percent = span('0% done');\n",
              "    li.appendChild(percent);\n",
              "\n",
              "    outputElement.appendChild(li);\n",
              "\n",
              "    const fileDataPromise = new Promise((resolve) => {\n",
              "      const reader = new FileReader();\n",
              "      reader.onload = (e) => {\n",
              "        resolve(e.target.result);\n",
              "      };\n",
              "      reader.readAsArrayBuffer(file);\n",
              "    });\n",
              "    // Wait for the data to be ready.\n",
              "    let fileData = yield {\n",
              "      promise: fileDataPromise,\n",
              "      response: {\n",
              "        action: 'continue',\n",
              "      }\n",
              "    };\n",
              "\n",
              "    // Use a chunked sending to avoid message size limits. See b/62115660.\n",
              "    let position = 0;\n",
              "    do {\n",
              "      const length = Math.min(fileData.byteLength - position, MAX_PAYLOAD_SIZE);\n",
              "      const chunk = new Uint8Array(fileData, position, length);\n",
              "      position += length;\n",
              "\n",
              "      const base64 = btoa(String.fromCharCode.apply(null, chunk));\n",
              "      yield {\n",
              "        response: {\n",
              "          action: 'append',\n",
              "          file: file.name,\n",
              "          data: base64,\n",
              "        },\n",
              "      };\n",
              "\n",
              "      let percentDone = fileData.byteLength === 0 ?\n",
              "          100 :\n",
              "          Math.round((position / fileData.byteLength) * 100);\n",
              "      percent.textContent = `${percentDone}% done`;\n",
              "\n",
              "    } while (position < fileData.byteLength);\n",
              "  }\n",
              "\n",
              "  // All done.\n",
              "  yield {\n",
              "    response: {\n",
              "      action: 'complete',\n",
              "    }\n",
              "  };\n",
              "}\n",
              "\n",
              "scope.google = scope.google || {};\n",
              "scope.google.colab = scope.google.colab || {};\n",
              "scope.google.colab._files = {\n",
              "  _uploadFiles,\n",
              "  _uploadFilesContinue,\n",
              "};\n",
              "})(self);\n",
              "</script> "
            ]
          },
          "metadata": {}
        },
        {
          "output_type": "stream",
          "name": "stdout",
          "text": [
            "Saving sa.csv to sa.csv\n"
          ]
        },
        {
          "output_type": "execute_result",
          "data": {
            "text/plain": [
              "    X1   X2  Y\n",
              "0  340  485  0\n",
              "1  440  399  0\n",
              "2  216  164  1\n",
              "3  498   58  0\n",
              "4  498   12  0"
            ],
            "text/html": [
              "\n",
              "  <div id=\"df-03221d14-efd5-46b6-a3dd-79426189aa6d\" class=\"colab-df-container\">\n",
              "    <div>\n",
              "<style scoped>\n",
              "    .dataframe tbody tr th:only-of-type {\n",
              "        vertical-align: middle;\n",
              "    }\n",
              "\n",
              "    .dataframe tbody tr th {\n",
              "        vertical-align: top;\n",
              "    }\n",
              "\n",
              "    .dataframe thead th {\n",
              "        text-align: right;\n",
              "    }\n",
              "</style>\n",
              "<table border=\"1\" class=\"dataframe\">\n",
              "  <thead>\n",
              "    <tr style=\"text-align: right;\">\n",
              "      <th></th>\n",
              "      <th>X1</th>\n",
              "      <th>X2</th>\n",
              "      <th>Y</th>\n",
              "    </tr>\n",
              "  </thead>\n",
              "  <tbody>\n",
              "    <tr>\n",
              "      <th>0</th>\n",
              "      <td>340</td>\n",
              "      <td>485</td>\n",
              "      <td>0</td>\n",
              "    </tr>\n",
              "    <tr>\n",
              "      <th>1</th>\n",
              "      <td>440</td>\n",
              "      <td>399</td>\n",
              "      <td>0</td>\n",
              "    </tr>\n",
              "    <tr>\n",
              "      <th>2</th>\n",
              "      <td>216</td>\n",
              "      <td>164</td>\n",
              "      <td>1</td>\n",
              "    </tr>\n",
              "    <tr>\n",
              "      <th>3</th>\n",
              "      <td>498</td>\n",
              "      <td>58</td>\n",
              "      <td>0</td>\n",
              "    </tr>\n",
              "    <tr>\n",
              "      <th>4</th>\n",
              "      <td>498</td>\n",
              "      <td>12</td>\n",
              "      <td>0</td>\n",
              "    </tr>\n",
              "  </tbody>\n",
              "</table>\n",
              "</div>\n",
              "    <div class=\"colab-df-buttons\">\n",
              "\n",
              "  <div class=\"colab-df-container\">\n",
              "    <button class=\"colab-df-convert\" onclick=\"convertToInteractive('df-03221d14-efd5-46b6-a3dd-79426189aa6d')\"\n",
              "            title=\"Convert this dataframe to an interactive table.\"\n",
              "            style=\"display:none;\">\n",
              "\n",
              "  <svg xmlns=\"http://www.w3.org/2000/svg\" height=\"24px\" viewBox=\"0 -960 960 960\">\n",
              "    <path d=\"M120-120v-720h720v720H120Zm60-500h600v-160H180v160Zm220 220h160v-160H400v160Zm0 220h160v-160H400v160ZM180-400h160v-160H180v160Zm440 0h160v-160H620v160ZM180-180h160v-160H180v160Zm440 0h160v-160H620v160Z\"/>\n",
              "  </svg>\n",
              "    </button>\n",
              "\n",
              "  <style>\n",
              "    .colab-df-container {\n",
              "      display:flex;\n",
              "      gap: 12px;\n",
              "    }\n",
              "\n",
              "    .colab-df-convert {\n",
              "      background-color: #E8F0FE;\n",
              "      border: none;\n",
              "      border-radius: 50%;\n",
              "      cursor: pointer;\n",
              "      display: none;\n",
              "      fill: #1967D2;\n",
              "      height: 32px;\n",
              "      padding: 0 0 0 0;\n",
              "      width: 32px;\n",
              "    }\n",
              "\n",
              "    .colab-df-convert:hover {\n",
              "      background-color: #E2EBFA;\n",
              "      box-shadow: 0px 1px 2px rgba(60, 64, 67, 0.3), 0px 1px 3px 1px rgba(60, 64, 67, 0.15);\n",
              "      fill: #174EA6;\n",
              "    }\n",
              "\n",
              "    .colab-df-buttons div {\n",
              "      margin-bottom: 4px;\n",
              "    }\n",
              "\n",
              "    [theme=dark] .colab-df-convert {\n",
              "      background-color: #3B4455;\n",
              "      fill: #D2E3FC;\n",
              "    }\n",
              "\n",
              "    [theme=dark] .colab-df-convert:hover {\n",
              "      background-color: #434B5C;\n",
              "      box-shadow: 0px 1px 3px 1px rgba(0, 0, 0, 0.15);\n",
              "      filter: drop-shadow(0px 1px 2px rgba(0, 0, 0, 0.3));\n",
              "      fill: #FFFFFF;\n",
              "    }\n",
              "  </style>\n",
              "\n",
              "    <script>\n",
              "      const buttonEl =\n",
              "        document.querySelector('#df-03221d14-efd5-46b6-a3dd-79426189aa6d button.colab-df-convert');\n",
              "      buttonEl.style.display =\n",
              "        google.colab.kernel.accessAllowed ? 'block' : 'none';\n",
              "\n",
              "      async function convertToInteractive(key) {\n",
              "        const element = document.querySelector('#df-03221d14-efd5-46b6-a3dd-79426189aa6d');\n",
              "        const dataTable =\n",
              "          await google.colab.kernel.invokeFunction('convertToInteractive',\n",
              "                                                    [key], {});\n",
              "        if (!dataTable) return;\n",
              "\n",
              "        const docLinkHtml = 'Like what you see? Visit the ' +\n",
              "          '<a target=\"_blank\" href=https://colab.research.google.com/notebooks/data_table.ipynb>data table notebook</a>'\n",
              "          + ' to learn more about interactive tables.';\n",
              "        element.innerHTML = '';\n",
              "        dataTable['output_type'] = 'display_data';\n",
              "        await google.colab.output.renderOutput(dataTable, element);\n",
              "        const docLink = document.createElement('div');\n",
              "        docLink.innerHTML = docLinkHtml;\n",
              "        element.appendChild(docLink);\n",
              "      }\n",
              "    </script>\n",
              "  </div>\n",
              "\n",
              "\n",
              "    <div id=\"df-d301e554-041b-4f6a-97e9-5589e572a618\">\n",
              "      <button class=\"colab-df-quickchart\" onclick=\"quickchart('df-d301e554-041b-4f6a-97e9-5589e572a618')\"\n",
              "                title=\"Suggest charts\"\n",
              "                style=\"display:none;\">\n",
              "\n",
              "<svg xmlns=\"http://www.w3.org/2000/svg\" height=\"24px\"viewBox=\"0 0 24 24\"\n",
              "     width=\"24px\">\n",
              "    <g>\n",
              "        <path d=\"M19 3H5c-1.1 0-2 .9-2 2v14c0 1.1.9 2 2 2h14c1.1 0 2-.9 2-2V5c0-1.1-.9-2-2-2zM9 17H7v-7h2v7zm4 0h-2V7h2v10zm4 0h-2v-4h2v4z\"/>\n",
              "    </g>\n",
              "</svg>\n",
              "      </button>\n",
              "\n",
              "<style>\n",
              "  .colab-df-quickchart {\n",
              "      --bg-color: #E8F0FE;\n",
              "      --fill-color: #1967D2;\n",
              "      --hover-bg-color: #E2EBFA;\n",
              "      --hover-fill-color: #174EA6;\n",
              "      --disabled-fill-color: #AAA;\n",
              "      --disabled-bg-color: #DDD;\n",
              "  }\n",
              "\n",
              "  [theme=dark] .colab-df-quickchart {\n",
              "      --bg-color: #3B4455;\n",
              "      --fill-color: #D2E3FC;\n",
              "      --hover-bg-color: #434B5C;\n",
              "      --hover-fill-color: #FFFFFF;\n",
              "      --disabled-bg-color: #3B4455;\n",
              "      --disabled-fill-color: #666;\n",
              "  }\n",
              "\n",
              "  .colab-df-quickchart {\n",
              "    background-color: var(--bg-color);\n",
              "    border: none;\n",
              "    border-radius: 50%;\n",
              "    cursor: pointer;\n",
              "    display: none;\n",
              "    fill: var(--fill-color);\n",
              "    height: 32px;\n",
              "    padding: 0;\n",
              "    width: 32px;\n",
              "  }\n",
              "\n",
              "  .colab-df-quickchart:hover {\n",
              "    background-color: var(--hover-bg-color);\n",
              "    box-shadow: 0 1px 2px rgba(60, 64, 67, 0.3), 0 1px 3px 1px rgba(60, 64, 67, 0.15);\n",
              "    fill: var(--button-hover-fill-color);\n",
              "  }\n",
              "\n",
              "  .colab-df-quickchart-complete:disabled,\n",
              "  .colab-df-quickchart-complete:disabled:hover {\n",
              "    background-color: var(--disabled-bg-color);\n",
              "    fill: var(--disabled-fill-color);\n",
              "    box-shadow: none;\n",
              "  }\n",
              "\n",
              "  .colab-df-spinner {\n",
              "    border: 2px solid var(--fill-color);\n",
              "    border-color: transparent;\n",
              "    border-bottom-color: var(--fill-color);\n",
              "    animation:\n",
              "      spin 1s steps(1) infinite;\n",
              "  }\n",
              "\n",
              "  @keyframes spin {\n",
              "    0% {\n",
              "      border-color: transparent;\n",
              "      border-bottom-color: var(--fill-color);\n",
              "      border-left-color: var(--fill-color);\n",
              "    }\n",
              "    20% {\n",
              "      border-color: transparent;\n",
              "      border-left-color: var(--fill-color);\n",
              "      border-top-color: var(--fill-color);\n",
              "    }\n",
              "    30% {\n",
              "      border-color: transparent;\n",
              "      border-left-color: var(--fill-color);\n",
              "      border-top-color: var(--fill-color);\n",
              "      border-right-color: var(--fill-color);\n",
              "    }\n",
              "    40% {\n",
              "      border-color: transparent;\n",
              "      border-right-color: var(--fill-color);\n",
              "      border-top-color: var(--fill-color);\n",
              "    }\n",
              "    60% {\n",
              "      border-color: transparent;\n",
              "      border-right-color: var(--fill-color);\n",
              "    }\n",
              "    80% {\n",
              "      border-color: transparent;\n",
              "      border-right-color: var(--fill-color);\n",
              "      border-bottom-color: var(--fill-color);\n",
              "    }\n",
              "    90% {\n",
              "      border-color: transparent;\n",
              "      border-bottom-color: var(--fill-color);\n",
              "    }\n",
              "  }\n",
              "</style>\n",
              "\n",
              "      <script>\n",
              "        async function quickchart(key) {\n",
              "          const quickchartButtonEl =\n",
              "            document.querySelector('#' + key + ' button');\n",
              "          quickchartButtonEl.disabled = true;  // To prevent multiple clicks.\n",
              "          quickchartButtonEl.classList.add('colab-df-spinner');\n",
              "          try {\n",
              "            const charts = await google.colab.kernel.invokeFunction(\n",
              "                'suggestCharts', [key], {});\n",
              "          } catch (error) {\n",
              "            console.error('Error during call to suggestCharts:', error);\n",
              "          }\n",
              "          quickchartButtonEl.classList.remove('colab-df-spinner');\n",
              "          quickchartButtonEl.classList.add('colab-df-quickchart-complete');\n",
              "        }\n",
              "        (() => {\n",
              "          let quickchartButtonEl =\n",
              "            document.querySelector('#df-d301e554-041b-4f6a-97e9-5589e572a618 button');\n",
              "          quickchartButtonEl.style.display =\n",
              "            google.colab.kernel.accessAllowed ? 'block' : 'none';\n",
              "        })();\n",
              "      </script>\n",
              "    </div>\n",
              "\n",
              "    </div>\n",
              "  </div>\n"
            ],
            "application/vnd.google.colaboratory.intrinsic+json": {
              "type": "dataframe",
              "variable_name": "df",
              "summary": "{\n  \"name\": \"df\",\n  \"rows\": 400,\n  \"fields\": [\n    {\n      \"column\": \"X1\",\n      \"properties\": {\n        \"dtype\": \"number\",\n        \"std\": 143,\n        \"min\": 2,\n        \"max\": 499,\n        \"num_unique_values\": 283,\n        \"samples\": [\n          371,\n          407,\n          221\n        ],\n        \"semantic_type\": \"\",\n        \"description\": \"\"\n      }\n    },\n    {\n      \"column\": \"X2\",\n      \"properties\": {\n        \"dtype\": \"number\",\n        \"std\": 144,\n        \"min\": 1,\n        \"max\": 499,\n        \"num_unique_values\": 284,\n        \"samples\": [\n          318,\n          351,\n          330\n        ],\n        \"semantic_type\": \"\",\n        \"description\": \"\"\n      }\n    },\n    {\n      \"column\": \"Y\",\n      \"properties\": {\n        \"dtype\": \"number\",\n        \"std\": 1,\n        \"min\": 0,\n        \"max\": 4,\n        \"num_unique_values\": 5,\n        \"samples\": [\n          1,\n          4,\n          3\n        ],\n        \"semantic_type\": \"\",\n        \"description\": \"\"\n      }\n    }\n  ]\n}"
            }
          },
          "metadata": {},
          "execution_count": 219
        }
      ]
    },
    {
      "cell_type": "code",
      "source": [
        "df.shape"
      ],
      "metadata": {
        "colab": {
          "base_uri": "https://localhost:8080/"
        },
        "id": "iKNb477o9o9C",
        "outputId": "9d08fe7c-41ee-4e33-a887-4ab7386bc25f"
      },
      "execution_count": 220,
      "outputs": [
        {
          "output_type": "execute_result",
          "data": {
            "text/plain": [
              "(400, 3)"
            ]
          },
          "metadata": {},
          "execution_count": 220
        }
      ]
    },
    {
      "cell_type": "code",
      "source": [
        "df.info()"
      ],
      "metadata": {
        "colab": {
          "base_uri": "https://localhost:8080/"
        },
        "id": "2CYZ4Ix--WM6",
        "outputId": "97ba66f1-0121-4260-f9d4-c292b868e778"
      },
      "execution_count": 221,
      "outputs": [
        {
          "output_type": "stream",
          "name": "stdout",
          "text": [
            "<class 'pandas.core.frame.DataFrame'>\n",
            "RangeIndex: 400 entries, 0 to 399\n",
            "Data columns (total 3 columns):\n",
            " #   Column  Non-Null Count  Dtype\n",
            "---  ------  --------------  -----\n",
            " 0   X1      400 non-null    int64\n",
            " 1   X2      400 non-null    int64\n",
            " 2   Y       400 non-null    int64\n",
            "dtypes: int64(3)\n",
            "memory usage: 9.5 KB\n"
          ]
        }
      ]
    },
    {
      "cell_type": "code",
      "source": [
        "from sklearn.preprocessing import StandardScaler\n",
        "scaler = StandardScaler()\n",
        "X_train = scaler.fit_transform(X_train)\n",
        "X_test = scaler.transform(X_test)"
      ],
      "metadata": {
        "id": "Tdx8Z6uK-oh8"
      },
      "execution_count": 222,
      "outputs": []
    },
    {
      "cell_type": "code",
      "source": [
        "X_1 = df['X1'].values.tolist()\n",
        "X_2 = df['X2'].values.tolist()\n",
        "Y = df['Y'].values.tolist()"
      ],
      "metadata": {
        "id": "dHbTq8-I-ygg"
      },
      "execution_count": 223,
      "outputs": []
    },
    {
      "cell_type": "code",
      "source": [
        "X_1 = np.array(X_1)\n",
        "X_2 = np.array(X_2)\n",
        "Y = np.array(Y)"
      ],
      "metadata": {
        "id": "3AuPP1lf-0Ki"
      },
      "execution_count": 224,
      "outputs": []
    },
    {
      "cell_type": "code",
      "source": [
        "plt.figure(figsize=(12, 10))\n",
        "plt.scatter(X_1[Y == 0], X_2[Y == 0], label='Class 0', marker='o', color='blue')\n",
        "plt.scatter(X_1[Y == 1], X_2[Y == 1], label='Class 1', marker='x', color='orange')\n",
        "plt.scatter(X_1[Y == 2], X_2[Y == 2], label='Class 2', marker='*', color='green')\n",
        "plt.scatter(X_1[Y == 3], X_2[Y == 3], label='Class 3', marker='*', color='red')\n",
        "plt.scatter(X_1[Y == 4], X_2[Y == 4], label='Class 4', marker='*', color='black')\n",
        "\n",
        "#plt.scatter(X_1[Y == 3], X_2[Y == 3], label='Class 3', marker='^', color='green')\n",
        "\n",
        "plt.xlabel('X1')\n",
        "plt.ylabel('X2')\n",
        "plt.title('Scatter Plot by Class')\n",
        "plt.legend()\n",
        "plt.show()"
      ],
      "metadata": {
        "colab": {
          "base_uri": "https://localhost:8080/",
          "height": 872
        },
        "id": "qiSR_eiP--e8",
        "outputId": "3baa954b-fed8-4423-f61e-45fe3fc5a59d"
      },
      "execution_count": 225,
      "outputs": [
        {
          "output_type": "display_data",
          "data": {
            "text/plain": [
              "<Figure size 1200x1000 with 1 Axes>"
            ],
            "image/png": "[encoded data removed]"
          },
          "metadata": {}
        }
      ]
    },
    {
      "cell_type": "code",
      "source": [
        "feat = list(zip(X_1, X_2))\n",
        "feat_np = np.array(feat)"
      ],
      "metadata": {
        "id": "P_kbz9Di_BZw"
      },
      "execution_count": 226,
      "outputs": []
    },
    {
      "cell_type": "code",
      "source": [
        "Y_ = []\n",
        "for i in Y:\n",
        "  Y_.append(normalize(i, 3))\n",
        "Y_ = np.array(Y_)"
      ],
      "metadata": {
        "id": "8xGCbEKI_G2C"
      },
      "execution_count": 227,
      "outputs": []
    },
    {
      "cell_type": "code",
      "source": [
        "X_train, X_test, y_train, y_test = train_test_split(feat_np, Y_, test_size=0.2, random_state=42)\n",
        "\n",
        "print(\"Training set shape:\", X_train.shape)\n",
        "print(\"Test set shape:\", X_test.shape)"
      ],
      "metadata": {
        "colab": {
          "base_uri": "https://localhost:8080/"
        },
        "id": "HoZ_g4Eh_Kkv",
        "outputId": "2c7b42d9-f670-40b3-d2a8-899cc38d7228"
      },
      "execution_count": 228,
      "outputs": [
        {
          "output_type": "stream",
          "name": "stdout",
          "text": [
            "Training set shape: (320, 2)\n",
            "Test set shape: (80, 2)\n"
          ]
        }
      ]
    },
    {
      "cell_type": "code",
      "source": [
        "X_train.shape, X_test.shape"
      ],
      "metadata": {
        "colab": {
          "base_uri": "https://localhost:8080/"
        },
        "id": "RFeCHXud_PAD",
        "outputId": "3323e043-fca4-4e4e-ca6e-5f8e30745a6f"
      },
      "execution_count": 229,
      "outputs": [
        {
          "output_type": "execute_result",
          "data": {
            "text/plain": [
              "((320, 2), (80, 2))"
            ]
          },
          "metadata": {},
          "execution_count": 229
        }
      ]
    },
    {
      "cell_type": "code",
      "source": [
        "import numpy as np\n",
        "\n",
        "class NN:\n",
        "    def __init__(self, input_layer_neurons=2,\n",
        "                 hidden_layer_1_neurons=128,\n",
        "                 hidden_layer_2_neurons=64,\n",
        "                 hidden_layer_3_neurons=32,\n",
        "                 hidden_layer_4_neurons=16,\n",
        "                 output_layer_neurons=3,\n",
        "                 learning_rate=0.001,\n",
        "                 dropout_prob=0.3):\n",
        "\n",
        "        self.learning_rate = learning_rate\n",
        "        self.dropout_prob = dropout_prob\n",
        "\n",
        "        # weights\n",
        "        self.W_H1I = np.random.randn(input_layer_neurons, hidden_layer_1_neurons) * 0.1\n",
        "        self.W_H2H1 = np.random.randn(hidden_layer_1_neurons, hidden_layer_2_neurons) * 0.1\n",
        "        self.W_H3H2 = np.random.randn(hidden_layer_2_neurons, hidden_layer_3_neurons) * 0.1\n",
        "        self.W_H4H3 = np.random.randn(hidden_layer_3_neurons, hidden_layer_4_neurons) * 0.1\n",
        "        self.W_OH4  = np.random.randn(hidden_layer_4_neurons, output_layer_neurons) * 0.1\n",
        "\n",
        "        # biases\n",
        "        self.biases = [\n",
        "            np.zeros(hidden_layer_1_neurons),  # b1\n",
        "            np.zeros(hidden_layer_2_neurons),  # b2\n",
        "            np.zeros(hidden_layer_3_neurons),  # b3\n",
        "            np.zeros(hidden_layer_4_neurons),  # b4\n",
        "            np.zeros(output_layer_neurons)     # b5\n",
        "        ]\n",
        "\n",
        "    # dropout function (correct place)\n",
        "    def dropout(self, X, drop_prob=0.3):\n",
        "        mask = (np.random.rand(*X.shape) > drop_prob).astype(float)\n",
        "        return X * mask / (1 - drop_prob)\n",
        "\n",
        "    # relu for hidden layers\n",
        "    def relu(self, x, der=False):\n",
        "        if der:\n",
        "            return (x > 0).astype(float)\n",
        "        return np.maximum(0, x)\n",
        "\n",
        "    # softmax for output layer\n",
        "    def softmax(self, x):\n",
        "        exp_x = np.exp(x - np.max(x, axis=1, keepdims=True))\n",
        "        return exp_x / np.sum(exp_x, axis=1, keepdims=True)\n",
        "\n",
        "    # forward propagation\n",
        "    def feedForward(self, X, training=True):\n",
        "        self.hidden1_input = np.dot(X, self.W_H1I) + self.biases[0]\n",
        "        self.hidden1_output = self.relu(self.hidden1_input)\n",
        "        if training:  # apply dropout only during training\n",
        "            self.hidden1_output = self.dropout(self.hidden1_output, self.dropout_prob)\n",
        "\n",
        "        self.hidden2_input = np.dot(self.hidden1_output, self.W_H2H1) + self.biases[1]\n",
        "        self.hidden2_output = self.relu(self.hidden2_input)\n",
        "        if training:\n",
        "            self.hidden2_output = self.dropout(self.hidden2_output, self.dropout_prob)\n",
        "\n",
        "        self.hidden3_input = np.dot(self.hidden2_output, self.W_H3H2) + self.biases[2]\n",
        "        self.hidden3_output = self.relu(self.hidden3_input)\n",
        "        if training:\n",
        "            self.hidden3_output = self.dropout(self.hidden3_output, self.dropout_prob)\n",
        "\n",
        "        self.hidden4_input = np.dot(self.hidden3_output, self.W_H4H3) + self.biases[3]\n",
        "        self.hidden4_output = self.relu(self.hidden4_input)\n",
        "        if training:\n",
        "            self.hidden4_output = self.dropout(self.hidden4_output, self.dropout_prob)\n",
        "\n",
        "        self.output_input = np.dot(self.hidden4_output, self.W_OH4) + self.biases[4]\n",
        "        self.output = self.softmax(self.output_input)\n",
        "\n",
        "        return self.output\n",
        "\n",
        "    # cross-entropy loss\n",
        "    def compute_loss(self, Y, pred):\n",
        "        m = Y.shape[0]\n",
        "        return -np.sum(Y * np.log(pred + 1e-9)) / m\n",
        "\n",
        "    # backward propagation\n",
        "    def backPropagation(self, X, Y, pred):\n",
        "        m = X.shape[0]\n",
        "\n",
        "        # output delta\n",
        "        output_delta = (pred - Y) / m\n",
        "\n",
        "        # hidden4 delta\n",
        "        hidden4_error = np.dot(output_delta, self.W_OH4.T)\n",
        "        hidden4_delta = hidden4_error * self.relu(self.hidden4_output, der=True)\n",
        "\n",
        "        # hidden3 delta\n",
        "        hidden3_error = np.dot(hidden4_delta, self.W_H4H3.T)\n",
        "        hidden3_delta = hidden3_error * self.relu(self.hidden3_output, der=True)\n",
        "\n",
        "        # hidden2 delta\n",
        "        hidden2_error = np.dot(hidden3_delta, self.W_H3H2.T)\n",
        "        hidden2_delta = hidden2_error * self.relu(self.hidden2_output, der=True)\n",
        "\n",
        "        # hidden1 delta\n",
        "        hidden1_error = np.dot(hidden2_delta, self.W_H2H1.T)\n",
        "        hidden1_delta = hidden1_error * self.relu(self.hidden1_output, der=True)\n",
        "\n",
        "        # update weights\n",
        "        self.W_OH4 -= self.learning_rate * np.dot(self.hidden4_output.T, output_delta)\n",
        "        self.W_H4H3 -= self.learning_rate * np.dot(self.hidden3_output.T, hidden4_delta)\n",
        "        self.W_H3H2 -= self.learning_rate * np.dot(self.hidden2_output.T, hidden3_delta)\n",
        "        self.W_H2H1 -= self.learning_rate * np.dot(self.hidden1_output.T, hidden2_delta)\n",
        "        self.W_H1I  -= self.learning_rate * np.dot(X.T, hidden1_delta)\n",
        "\n",
        "        # update biases\n",
        "        self.biases[4] -= self.learning_rate * np.sum(output_delta, axis=0)\n",
        "        self.biases[3] -= self.learning_rate * np.sum(hidden4_delta, axis=0)\n",
        "        self.biases[2] -= self.learning_rate * np.sum(hidden3_delta, axis=0)\n",
        "        self.biases[1] -= self.learning_rate * np.sum(hidden2_delta, axis=0)\n",
        "        self.biases[0] -= self.learning_rate * np.sum(hidden1_delta, axis=0)\n",
        "\n",
        "    def fit(self, X_train, Y_train, epochs=1000, log_interval=100):\n",
        "        self.train_loss_history = []\n",
        "        self.x_axis = []\n",
        "\n",
        "        for epoch in range(epochs):\n",
        "            pred_train = self.feedForward(X_train, training=True)\n",
        "            self.backPropagation(X_train, Y_train, pred_train)\n",
        "\n",
        "            if epoch % log_interval == 0:\n",
        "                train_loss = self.compute_loss(Y_train, pred_train)\n",
        "                self.train_loss_history.append(train_loss)\n",
        "                self.x_axis.append(epoch)\n",
        "                print(f\"Epoch {epoch}   | Train Loss: {train_loss:.4f}\")\n",
        "\n",
        "    def predict(self, X):\n",
        "        pred = self.feedForward(X, training=False)  # no dropout in test\n",
        "        return np.argmax(pred, axis=1)\n"
      ],
      "metadata": {
        "id": "ASqh7ET5_YVc"
      },
      "execution_count": 237,
      "outputs": []
    },
    {
      "cell_type": "code",
      "source": [
        "nn_final = NN(learning_rate=0.005)\n",
        "nn_final.fit(X_train, y_train, epochs=20000, log_interval=2000)\n"
      ],
      "metadata": {
        "colab": {
          "base_uri": "https://localhost:8080/"
        },
        "id": "MijIAOZb_aNR",
        "outputId": "7c44cca1-cf45-4d5c-fdcc-63ea7ba67773"
      },
      "execution_count": 238,
      "outputs": [
        {
          "output_type": "stream",
          "name": "stdout",
          "text": [
            "Epoch 0   | Train Loss: 6.6454\n",
            "Epoch 2000   | Train Loss: 0.7812\n",
            "Epoch 4000   | Train Loss: 0.8131\n",
            "Epoch 6000   | Train Loss: 1.2905\n",
            "Epoch 8000   | Train Loss: 0.8183\n",
            "Epoch 10000   | Train Loss: 0.9546\n",
            "Epoch 12000   | Train Loss: 0.9365\n",
            "Epoch 14000   | Train Loss: 1.1419\n",
            "Epoch 16000   | Train Loss: 1.0029\n",
            "Epoch 18000   | Train Loss: 1.0258\n"
          ]
        }
      ]
    },
    {
      "cell_type": "code",
      "source": [
        "plt.figure(figsize=(10, 8))\n",
        "plt.plot(nn_final.x_axis, nn_final.train_loss_history)\n",
        "plt.xlabel(\"Epochs\")\n",
        "plt.ylabel(\"Train Loss\")\n",
        "plt.title(\"Training Loss Over Epochs\")\n",
        "plt.xlim(0, 100000)\n",
        "plt.ylim(0.6, 1.5)\n",
        "plt.xticks(range(0, 100001, 10000))\n",
        "plt.yticks(np.arange(0.6, 1.51, 0.1))\n",
        "plt.show()"
      ],
      "metadata": {
        "colab": {
          "base_uri": "https://localhost:8080/",
          "height": 718
        },
        "id": "FJJGNpDw_f5k",
        "outputId": "061571a3-9e4b-4d2c-db75-c7d473ebc696"
      },
      "execution_count": 239,
      "outputs": [
        {
          "output_type": "display_data",
          "data": {
            "text/plain": [
              "<Figure size 1000x800 with 1 Axes>"
            ],
            "image/png": "[encoded data removed]"
          },
          "metadata": {}
        }
      ]
    },
    {
      "cell_type": "code",
      "source": [
        "y_pred_test = nn_final.predict(X_test)\n",
        "y_true_test = np.argmax(y_test, axis=1)\n",
        "accuracy = np.mean(y_pred_test == y_true_test)\n",
        "print(f\"Test Accuracy: {accuracy:.2f}\")"
      ],
      "metadata": {
        "colab": {
          "base_uri": "https://localhost:8080/"
        },
        "id": "mx9ovLId_8Vh",
        "outputId": "76debbb4-12f6-4180-c1cf-e4881d2366fa"
      },
      "execution_count": 240,
      "outputs": [
        {
          "output_type": "stream",
          "name": "stdout",
          "text": [
            "Test Accuracy: 0.79\n"
          ]
        }
      ]
    },
    {
      "cell_type": "code",
      "source": [
        "def getProb(pred):\n",
        "    return {f'Class-{index}': p*100 for index, p in enumerate(pred)}\n",
        "\n",
        "def getClass(dict):\n",
        "  max_key = max(dict, key=dict.get)\n",
        "  return (max_key)"
      ],
      "metadata": {
        "id": "o1biZPdMAAoM"
      },
      "execution_count": 241,
      "outputs": []
    },
    {
      "cell_type": "code",
      "source": [
        "input_data = np.array([[77, 1]])\n",
        "pred = nn_final.feedForward(input_data)\n",
        "\n",
        "probabilities = pred[0]\n",
        "probability_dict = getProb(probabilities)\n",
        "predicted_class = getClass(probability_dict)\n",
        "\n",
        "print(\"Prediction Output:\")\n",
        "print(f\"Raw Probabilities: {probabilities}\")\n",
        "print(\"\\nClass Probabilities:\")\n",
        "for class_name, probability in probability_dict.items():\n",
        "    print(f\"  {class_name}: {probability:.2f}%\")\n",
        "\n",
        "print(f\"\\nPredicted Class: {predicted_class}\")"
      ],
      "metadata": {
        "colab": {
          "base_uri": "https://localhost:8080/"
        },
        "id": "iSbn5jLmAEXz",
        "outputId": "9a719b53-7486-470c-e8d1-82d74c692920"
      },
      "execution_count": 243,
      "outputs": [
        {
          "output_type": "stream",
          "name": "stdout",
          "text": [
            "Prediction Output:\n",
            "Raw Probabilities: [0.93779004 0.00808951 0.05412045]\n",
            "\n",
            "Class Probabilities:\n",
            "  Class-0: 93.78%\n",
            "  Class-1: 0.81%\n",
            "  Class-2: 5.41%\n",
            "\n",
            "Predicted Class: Class-0\n"
          ]
        }
      ]
    },
    {
      "cell_type": "code",
      "source": [
        "predictions = nn_final.feedForward(X_test)\n",
        "\n",
        "y_true_labels = np.argmax(y_test, axis=1)\n",
        "y_pred_labels = np.argmax(predictions, axis=1)\n",
        "\n",
        "accuracy = accuracy_score(y_true_labels, y_pred_labels)\n",
        "print(f\"Total Accuracy: {accuracy:.4f}\")\n",
        "\n",
        "precision = precision_score(y_true_labels, y_pred_labels, average=None, zero_division=0)\n",
        "print(\"Precision for each class:\")\n",
        "for i, score in enumerate(precision):\n",
        "    print(f\"Class {i}: {score:.4f}\")\n",
        "\n",
        "recall = recall_score(y_true_labels, y_pred_labels, average='macro')\n",
        "print(f\"Recall (macro average): {recall:.4f}\")\n",
        "\n",
        "f1 = f1_score(y_true_labels, y_pred_labels, average='macro')\n",
        "print(f\"F1 Score (macro average): {f1:.4f}\")"
      ],
      "metadata": {
        "colab": {
          "base_uri": "https://localhost:8080/"
        },
        "id": "lBFZpWjpAITC",
        "outputId": "65a52701-e241-443f-9556-ac6cf7a9b449"
      },
      "execution_count": 244,
      "outputs": [
        {
          "output_type": "stream",
          "name": "stdout",
          "text": [
            "Total Accuracy: 0.6500\n",
            "Precision for each class:\n",
            "Class 0: 0.7612\n",
            "Class 1: 0.0769\n",
            "Class 2: 0.0000\n",
            "Recall (macro average): 0.2976\n",
            "F1 Score (macro average): 0.2882\n"
          ]
        }
      ]
    }
  ]
}